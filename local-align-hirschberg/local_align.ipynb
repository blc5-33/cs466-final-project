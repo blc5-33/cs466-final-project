{
 "cells": [
  {
   "cell_type": "code",
   "execution_count": 1,
   "metadata": {},
   "outputs": [],
   "source": [
    "import pandas as pd\n",
    "import numpy as np\n",
    "from tqdm import tqdm"
   ]
  },
  {
   "cell_type": "markdown",
   "metadata": {},
   "source": [
    "## Loading Dataset\n",
    "Scrubbed dataset collected by filtering through NCBI datasets (see `scrubbed-viral-data/README.md` for more info)."
   ]
  },
  {
   "cell_type": "code",
   "execution_count": 2,
   "metadata": {},
   "outputs": [],
   "source": [
    "data_path = '../scrubbed-viral-data/scrubbed_sequences.csv'\n",
    "df = pd.read_csv(data_path)\n",
    "seqs = df['Sequence'].to_numpy()"
   ]
  },
  {
   "cell_type": "markdown",
   "metadata": {},
   "source": [
    "## Input Sequences\n",
    "Here you should put in the gene or sequence you wish to find local alignments of."
   ]
  },
  {
   "cell_type": "code",
   "execution_count": 3,
   "metadata": {},
   "outputs": [],
   "source": [
    "v = 'GTAAATCCTTTGAGAAGAAGAGTCTCT'"
   ]
  },
  {
   "cell_type": "markdown",
   "metadata": {},
   "source": [
    "## Output Procedure For Locally Aligning $v$ to One Database Sequence $w$\n",
    "Let $n = |v|, m = |w|$, assume $n << m$.\n",
    "\n",
    "First we will find a list of all quartets $(i_{begin}, j_{begin}, i_{end}, j_{end})$ of all optimal\n",
    "local alignments of $v$ with $w$. Since this quartet captures the 4 points of a \"window\" of what would\n",
    "be the 2D DP table for local alignment, I'll call it a window.\n",
    "\n",
    "This is extremely similar to the midterm! Professor El-Kebir pointed out a clever solution to this\n",
    "problem by keeping track of an `origin` \"table\" where each cell $(i, j)$ has an entry $origin[i][j]$\n",
    "corresponding to the start of the optimal local alignment ending at $(i, j)$. We run space\n",
    "efficient local alignment with 2 columns (and 2 columns for our `origin` tracking), and\n",
    "save the highest scores + their corrseponding windows. There may be multiple ties by score.\n",
    "\n",
    "These windows will\n",
    "then be plugged into Hirschberg's algorithm to be able to figure out the backtraces for the local\n",
    "aligns in $O(n)$ space.\n"
   ]
  },
  {
   "cell_type": "code",
   "execution_count": 8,
   "metadata": {},
   "outputs": [],
   "source": [
    "def delta(v_i, w_j):\n",
    "    if v_i == w_j:\n",
    "        return 1\n",
    "    else:\n",
    "        return -1\n",
    "\n",
    "\n",
    "def find_windows(v: str, w: str):\n",
    "    n = len(v)\n",
    "    m = len(w)\n",
    "    prev = [(0, -1, -1) for _ in range(n + 1)]  # (score, i, j) i and j of origin of score\n",
    "    cur = [(0, -1, -1) for _ in range(n + 1)]\n",
    "    max_score = 0\n",
    "    windows = []\n",
    "\n",
    "    for j_end in range(m + 1):\n",
    "        for i_end in range(n + 1):\n",
    "            new_score, i_beg, j_beg = 0, i_end, j_end  # origin is itself by default\n",
    "            if i_end > 0:\n",
    "                from_score, from_i_beg, from_j_beg = cur[i_end - 1]\n",
    "                deletion_score = from_score - 1\n",
    "                if deletion_score > new_score:\n",
    "                    # inherit origins from previous cell\n",
    "                    new_score, i_beg, j_beg = deletion_score, from_i_beg, from_j_beg\n",
    "            if j_end > 0:\n",
    "                from_score, from_i_beg, from_j_beg = prev[i_end]\n",
    "                insertion_score = from_score - 1\n",
    "                if insertion_score > new_score:\n",
    "                    new_score, i_beg, j_beg = insertion_score, from_i_beg, from_j_beg\n",
    "            if i_end > 0 and j_end > 0:\n",
    "                from_score, from_i_beg, from_j_beg = prev[i_end - 1]\n",
    "                match_score = from_score + delta(v[i_end - 1], w[j_end - 1])\n",
    "                if match_score > new_score:\n",
    "                    new_score, i_beg, j_beg = match_score, from_i_beg, from_j_beg\n",
    "\n",
    "            cur[i_end] = (new_score, i_beg, j_beg)\n",
    "            if new_score > max_score:\n",
    "                max_score = new_score\n",
    "                # print(f'new window of score {max_score}')\n",
    "                # window index is 0-indexed for string access, but sequence index is 1-indexed\n",
    "                windows = [(i_beg - 1, j_beg - 1, i_end - 1, j_end - 1)]\n",
    "            elif new_score == max_score and max_score > 0:\n",
    "                # print(f'continuing window of score {max_score}')\n",
    "                windows.append((i_beg - 1, j_beg - 1, i_end - 1, j_end - 1))\n",
    "\n",
    "        prev = cur\n",
    "        cur = [(0, -1, -1) for _ in range(n + 1)]\n",
    "        print([p[0] for p in prev])\n",
    "\n",
    "    # print([c[0] for c in cur])\n",
    "    return windows\n",
    "\n",
    "\n",
    "def hirschberg_nw(v: str, w: str, i_beg: int, j_beg: int, i_end: int, j_end: int):\n",
    "    pass\n",
    "\n",
    "\n",
    "def space_efficient_local_align(v: str, w: str):\n",
    "    results = []\n",
    "    windows = find_windows(v, w)\n",
    "    for (i_beg, j_beg, i_end, j_end) in windows:\n",
    "        score, alignment_str = hirschberg_nw(v, w, i_beg, j_beg, i_end, j_end)\n",
    "        results.append((score, alignment_str))\n"
   ]
  },
  {
   "cell_type": "code",
   "execution_count": 5,
   "metadata": {},
   "outputs": [
    {
     "name": "stdout",
     "output_type": "stream",
     "text": [
      "4: TAAT\n",
      "10: GTTTAATGAT\n"
     ]
    }
   ],
   "source": [
    "# Test finding windows\n",
    "v = 'TAAT'\n",
    "test_seq = min(seqs, key=len)[:10]\n",
    "print(f'{len(v)}: {v}')\n",
    "print(f'{len(test_seq)}: {test_seq}')"
   ]
  },
  {
   "cell_type": "code",
   "execution_count": 9,
   "metadata": {},
   "outputs": [
    {
     "name": "stdout",
     "output_type": "stream",
     "text": [
      "[0, 0, 0, 0, 0]\n",
      "[0, 0, 0, 0, 0]\n",
      "[0, 1, 0, 0, 1]\n",
      "[0, 1, 0, 0, 1]\n",
      "[0, 1, 0, 0, 1]\n",
      "[0, 0, 2, 1, 0]\n",
      "[0, 0, 1, 3, 2]\n",
      "[0, 1, 0, 2, 4]\n",
      "[0, 0, 0, 1, 3]\n",
      "[0, 0, 1, 1, 2]\n",
      "[0, 1, 0, 0, 2]\n"
     ]
    },
    {
     "data": {
      "text/plain": [
       "[(-1, 2, 3, 6)]"
      ]
     },
     "execution_count": 9,
     "metadata": {},
     "output_type": "execute_result"
    }
   ],
   "source": [
    "find_windows(v, test_seq)"
   ]
  },
  {
   "cell_type": "code",
   "execution_count": 26,
   "metadata": {},
   "outputs": [
    {
     "name": "stdout",
     "output_type": "stream",
     "text": [
      "GTTGAGCACAGTTTT\n",
      "TGAGCACAGT\n"
     ]
    }
   ],
   "source": [
    "len(v)\n",
    "print(v[0:15])\n",
    "print(test_seq[19:29])"
   ]
  },
  {
   "cell_type": "code",
   "execution_count": null,
   "metadata": {},
   "outputs": [],
   "source": []
  }
 ],
 "metadata": {
  "kernelspec": {
   "display_name": "cs466",
   "language": "python",
   "name": "python3"
  },
  "language_info": {
   "codemirror_mode": {
    "name": "ipython",
    "version": 3
   },
   "file_extension": ".py",
   "mimetype": "text/x-python",
   "name": "python",
   "nbconvert_exporter": "python",
   "pygments_lexer": "ipython3",
   "version": "3.11.10"
  }
 },
 "nbformat": 4,
 "nbformat_minor": 2
}

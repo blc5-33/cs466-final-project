{
 "cells": [
  {
   "cell_type": "code",
   "execution_count": 1,
   "metadata": {},
   "outputs": [],
   "source": [
    "import pandas as pd\n",
    "import numpy as np\n",
    "from tqdm import tqdm"
   ]
  },
  {
   "cell_type": "markdown",
   "metadata": {},
   "source": [
    "## Find Local Alignment Windows\n",
    "Let $n = |v|, m = |w|$, assume $n << m$.\n",
    "\n",
    "First we will find a list of all quartets $(i_{begin}, j_{begin}, i_{end}, j_{end})$ of all optimal\n",
    "local alignments of $v$ with $w$. Since this quartet captures the 4 points of a \"window\" of what would\n",
    "be the 2D DP table for local alignment, I'll call it a window.\n",
    "\n",
    "This is extremely similar to the midterm! Professor El-Kebir pointed out a clever solution to this\n",
    "problem by keeping track of an `origin` \"table\" where each cell $(i, j)$ has an entry $origin[i][j]$\n",
    "corresponding to the start of the optimal local alignment ending at $(i, j)$. We run space\n",
    "efficient local alignment with 2 columns (and 2 columns for our `origin` tracking), and\n",
    "save the highest scores + their corrseponding windows. There may be multiple ties by score.\n",
    "\n",
    "These windows will\n",
    "then be plugged into Hirschberg's algorithm to be able to figure out the backtraces for the local\n",
    "aligns in $O(n)$ space.\n"
   ]
  },
  {
   "cell_type": "code",
   "execution_count": 2,
   "metadata": {},
   "outputs": [],
   "source": [
    "def delta(v_i, w_j):\n",
    "    if v_i == w_j:\n",
    "        return 1\n",
    "    else:\n",
    "        return -1\n",
    "\n",
    "\n",
    "def find_windows(v: str, w: str):\n",
    "    n = len(v)\n",
    "    m = len(w)\n",
    "    prev = [(0, -1, -1) for _ in range(n + 1)]  # (score, i, j) i and j of origin of score\n",
    "    cur = [(0, -1, -1) for _ in range(n + 1)]\n",
    "    max_score = 0\n",
    "    windows = []\n",
    "\n",
    "    for j_end in range(m + 1):\n",
    "        for i_end in range(n + 1):\n",
    "            new_score, i_beg, j_beg = 0, i_end, j_end  # origin is itself by default\n",
    "            if i_end > 0:\n",
    "                from_score, from_i_beg, from_j_beg = cur[i_end - 1]\n",
    "                deletion_score = from_score - 1\n",
    "                if deletion_score > new_score:\n",
    "                    # inherit origins from previous cell\n",
    "                    new_score, i_beg, j_beg = deletion_score, from_i_beg, from_j_beg\n",
    "            if j_end > 0:\n",
    "                from_score, from_i_beg, from_j_beg = prev[i_end]\n",
    "                insertion_score = from_score - 1\n",
    "                if insertion_score > new_score:\n",
    "                    new_score, i_beg, j_beg = insertion_score, from_i_beg, from_j_beg\n",
    "            if i_end > 0 and j_end > 0:\n",
    "                from_score, from_i_beg, from_j_beg = prev[i_end - 1]\n",
    "                match_score = from_score + delta(v[i_end - 1], w[j_end - 1])\n",
    "                if match_score > new_score:\n",
    "                    new_score, i_beg, j_beg = match_score, from_i_beg, from_j_beg\n",
    "\n",
    "            cur[i_end] = (new_score, i_beg, j_beg)\n",
    "            if new_score > max_score:\n",
    "                max_score = new_score\n",
    "                # print(f'new window of score {max_score}')\n",
    "                # window index is 0-indexed for string access, but sequence index is 1-indexed\n",
    "                windows = [(i_beg, j_beg, i_end, j_end)]\n",
    "            elif new_score == max_score and max_score > 0:\n",
    "                # print(f'continuing window of score {max_score}')\n",
    "                windows.append((i_beg, j_beg, i_end, j_end))\n",
    "\n",
    "        prev = cur\n",
    "        cur = [(0, -1, -1) for _ in range(n + 1)]\n",
    "        # print([p[0] for p in prev])\n",
    "\n",
    "    # print([c[0] for c in cur])\n",
    "    return max_score, windows"
   ]
  },
  {
   "cell_type": "code",
   "execution_count": 3,
   "metadata": {},
   "outputs": [
    {
     "name": "stdout",
     "output_type": "stream",
     "text": [
      "27: GTAAATCCTTTGAGAAGAAGAGTCTCT\n",
      "100: GTTTAATGATTCACGATGTTGAGCACAGTTTTCCAACATTATGACCGAAATGATGAGGAACGCGCGTTGGTACCCTATAATCCGAGGCCGCCGAGTTACG\n"
     ]
    }
   ],
   "source": [
    "# Test finding windows\n",
    "test_in = 'GTAAATCCTTTGAGAAGAAGAGTCTCT'\n",
    "test_seq = 'GTTTAATGATTCACGATGTTGAGCACAGTTTTCCAACATTATGACCGAAATGATGAGGAACGCGCGTTGGTACCCTATAATCCGAGGCCGCCGAGTTACG'\n",
    "print(f'{len(test_in)}: {test_in}')\n",
    "print(f'{len(test_seq)}: {test_seq}')"
   ]
  },
  {
   "cell_type": "code",
   "execution_count": 4,
   "metadata": {},
   "outputs": [
    {
     "data": {
      "text/plain": [
       "(8, [(3, 34, 22, 57)])"
      ]
     },
     "execution_count": 4,
     "metadata": {},
     "output_type": "execute_result"
    }
   ],
   "source": [
    "find_windows(test_in, test_seq)"
   ]
  },
  {
   "cell_type": "code",
   "execution_count": 5,
   "metadata": {},
   "outputs": [
    {
     "name": "stdout",
     "output_type": "stream",
     "text": [
      "AATCCTTTGAGAAGAAGAG\n",
      "AACATTATGACCGAAATGATGAG\n"
     ]
    }
   ],
   "source": [
    "len(test_in)\n",
    "print(test_in[3:21+1])\n",
    "print(test_seq[34:56+1])"
   ]
  },
  {
   "cell_type": "markdown",
   "metadata": {},
   "source": [
    "## Hirschberg Implementation\n",
    "\n",
    "Now that we have our window-finding done, here we'll implement Hirschberg's algorithm to be able\n",
    "to recover the backtraces in $O(n)$ space where $n = \\text{length of input sequence}$ and assuming\n",
    "$n << m$.\n",
    "\n",
    "Note that our implementation is more closely aligned with [Wikipedia's suggested implementation](https://en.wikipedia.org/wiki/Hirschberg%27s_algorithm)\n",
    "than the one discussed in class."
   ]
  },
  {
   "cell_type": "code",
   "execution_count": 6,
   "metadata": {},
   "outputs": [],
   "source": [
    "# Returns score of last col only, not alignment string\n",
    "def needleman_wunsch_score(v: str, w: str):\n",
    "    n = len(v)\n",
    "    m = len(w)\n",
    "    prev = np.zeros(n + 1, dtype=np.int64)\n",
    "    cur = np.zeros(n + 1, dtype=np.int64)\n",
    "\n",
    "    for j_end in range(m + 1):\n",
    "        for i_end in range(n + 1):\n",
    "            new_score = -np.inf\n",
    "            if i_end == 0 and j_end == 0:\n",
    "                new_score = 0\n",
    "            if i_end > 0:\n",
    "                deletion_score = cur[i_end - 1] - 1\n",
    "                if deletion_score > new_score:\n",
    "                    new_score = deletion_score\n",
    "            if j_end > 0:\n",
    "                insertion_score = prev[i_end] - 1\n",
    "                if insertion_score > new_score:\n",
    "                    new_score = insertion_score\n",
    "            if i_end > 0 and j_end > 0:\n",
    "                match_score = prev[i_end - 1] + delta(v[i_end - 1], w[j_end - 1])\n",
    "                if match_score > new_score:\n",
    "                    new_score = match_score\n",
    "\n",
    "            cur[i_end] = new_score\n",
    "\n",
    "        prev = cur\n",
    "        cur = np.zeros(n + 1, dtype=np.int64)\n",
    "\n",
    "    return prev\n",
    "\n",
    "\n",
    "def hirschberg(X: str, Y: str):\n",
    "    Z = ''\n",
    "    W = ''\n",
    "    n = len(X)\n",
    "    m = len(Y)\n",
    "    if n == 0:\n",
    "        Z = '-' * m\n",
    "        W = Y\n",
    "    elif m == 0:\n",
    "        Z = X\n",
    "        W = '-' * n\n",
    "    elif n == 1:  # Needleman-Wunsch for single character case\n",
    "        match_idx = Y.find(X)\n",
    "        Z = (X + '-' * (m - 1)) if match_idx == -1 \\\n",
    "            else ('-' * match_idx + X + '-' * (m - match_idx - 1))\n",
    "        W = Y\n",
    "    elif m == 1:  # Needleman-Wunsch for single character case\n",
    "        match_idx = X.find(Y)\n",
    "        Z = X\n",
    "        W = (Y + '-' * (n - 1)) if match_idx == -1 \\\n",
    "            else ('-' * match_idx + Y + '-' * (n - match_idx - 1))\n",
    "    else:\n",
    "        j = m // 2\n",
    "        score_left = needleman_wunsch_score(X, Y[:j])\n",
    "        score_right = needleman_wunsch_score(X[::-1], Y[-1:j - 1:-1])\n",
    "        i = np.argmax(score_left + score_right[::-1])\n",
    "        Z1, W1 = hirschberg(X[:i], Y[:j])\n",
    "        Z2, W2 = hirschberg(X[i:], Y[j:])\n",
    "        Z = Z1 + Z2\n",
    "        W = W1 + W2\n",
    "\n",
    "    return (Z, W)"
   ]
  },
  {
   "cell_type": "code",
   "execution_count": 7,
   "metadata": {},
   "outputs": [
    {
     "data": {
      "text/plain": [
       "array([-35, -33, -31, -29, -27, -25, -23, -21, -19, -17, -15, -13, -11,\n",
       "        -9,  -7,  -5,  -3,  -1])"
      ]
     },
     "execution_count": 7,
     "metadata": {},
     "output_type": "execute_result"
    }
   ],
   "source": [
    "# Test NW and Hirschberg\n",
    "nw_in = 'ACAGTTTTCCAACATTA'\n",
    "nw_seq = 'ACAGTTTTCACCATATTAGACAGAACTAGTGAGAG'\n",
    "needleman_wunsch_score(nw_in, nw_seq)"
   ]
  },
  {
   "cell_type": "code",
   "execution_count": 8,
   "metadata": {},
   "outputs": [
    {
     "name": "stdout",
     "output_type": "stream",
     "text": [
      "ACAGTTTT--CC-----A-ACA----T--T-A---\n",
      "ACAGTTTTCACCATATTAGACAGAACTAGTGAGAG\n"
     ]
    }
   ],
   "source": [
    "# Z, W = hirschberg('AGTACGCA', 'TATGC')\n",
    "Z, W = hirschberg('ACAGTTTTCCAACATTA', 'ACAGTTTTCACCATATTAGACAGAACTAGTGAGAG')\n",
    "print(Z)\n",
    "print(W)"
   ]
  },
  {
   "cell_type": "markdown",
   "metadata": {},
   "source": [
    "## Putting It All Together\n",
    "\n",
    "Almost there! All that's left is to combine these two components to get our space-efficient\n",
    "local alignment."
   ]
  },
  {
   "cell_type": "code",
   "execution_count": 9,
   "metadata": {},
   "outputs": [],
   "source": [
    "def space_efficient_local_align(v: str, w: str):\n",
    "    alignments = []\n",
    "    score, windows = find_windows(v, w)\n",
    "    for i_beg, j_beg, i_end, j_end in windows:\n",
    "        alignments.append('\\n'.join(hirschberg(v[i_beg:i_end], w[j_beg:j_end])))\n",
    "    return score, alignments"
   ]
  },
  {
   "cell_type": "code",
   "execution_count": 10,
   "metadata": {},
   "outputs": [
    {
     "name": "stdout",
     "output_type": "stream",
     "text": [
      "Score: 8\n",
      "Alignments:\n",
      "AATCCTT-TGA--G-AA-GAAGAG\n",
      "AA-CATTATGACCGAAATGATGAG\n",
      "\n"
     ]
    }
   ],
   "source": [
    "# Test our new algorithm's output!\n",
    "v = 'GTAAATCCTTTGAGAAGAAGAGTCTCT'\n",
    "w = 'GTTTAATGATTCACGATGTTGAGCACAGTTTTCCAACATTATGACCGAAATGATGAGGAACGCGCGTTGGTACCCTATAATCCGAGGCCGCCGAGTTACG'\n",
    "score, alignments = space_efficient_local_align(v, w)\n",
    "print(f'Score: {score}')\n",
    "print('Alignments:')\n",
    "for align in alignments:\n",
    "    print(align)\n",
    "    print()"
   ]
  },
  {
   "cell_type": "markdown",
   "metadata": {},
   "source": [
    "## Using our Gizmo To Analyze Database\n",
    "Now for the exciting part, doing our mini-BLAST search!"
   ]
  },
  {
   "cell_type": "markdown",
   "metadata": {},
   "source": [
    "## Loading Dataset and Performing Search\n",
    "Scrubbed dataset collected by filtering through NCBI datasets (see `scrubbed-viral-data/README.md` for more info)."
   ]
  },
  {
   "cell_type": "code",
   "execution_count": 11,
   "metadata": {},
   "outputs": [],
   "source": [
    "data_path = '../scrubbed-viral-data/scrubbed_sequences.csv'\n",
    "df = pd.read_csv(data_path)"
   ]
  },
  {
   "cell_type": "code",
   "execution_count": 12,
   "metadata": {},
   "outputs": [
    {
     "name": "stderr",
     "output_type": "stream",
     "text": [
      "100%|██████████| 411/411 [00:24<00:00, 16.63it/s]\n"
     ]
    }
   ],
   "source": [
    "###### IMPORTANT: Input query sequence here. ######\n",
    "query_seq = 'GTATTACCAATTTGGGAATTTGTTTGG'\n",
    "###################################################\n",
    "\n",
    "search_results = []  # list of (score, description, alignment) tuples\n",
    "for i, row in tqdm(df.iterrows(), total=len(df)):\n",
    "    score, alignments = space_efficient_local_align(query_seq, row['Sequence'])\n",
    "    search_results.append((score, row['Description'], alignments))"
   ]
  },
  {
   "cell_type": "code",
   "execution_count": 13,
   "metadata": {},
   "outputs": [
    {
     "name": "stdout",
     "output_type": "stream",
     "text": [
      "Score: 17, Description: NC_012801.1 |Human cosavirus B1, complete genome\n",
      "\n",
      "TAC-CAATTTGGGA-ATTTGTTT\n",
      "TACTCAATTTGGGACATTGGTTT\n",
      "********************************************************************************\n",
      "Score: 16, Description: NC_038357.1 |Torque teno midi virus 10 DNA, complete genome, isolate: MDJN14\n",
      "\n",
      "TATTACCAAT--TTGG-G---AATTTGTT--TGG\n",
      "TATTCCCAATAATTGGAGTTAAATTTGTTAATGG\n",
      "********************************************************************************\n",
      "Score: 16, Description: NC_006577.2 |Human coronavirus HKU1, complete genome\n",
      "\n",
      "TATTACCAA-TTTGG-GA--ATTTGTTTGG\n",
      "TACTACTAATTTTGGTGAAGATTT-TTTGG\n",
      "********************************************************************************\n"
     ]
    }
   ],
   "source": [
    "search_results.sort(key=lambda x: x[0], reverse=True)\n",
    "for score, description, alignments in search_results[:3]:\n",
    "    print(f'Score: {score}, Description: {description}')\n",
    "    for align in alignments:\n",
    "        print()\n",
    "        print(align)\n",
    "    print('*' * 80)"
   ]
  },
  {
   "cell_type": "code",
   "execution_count": null,
   "metadata": {},
   "outputs": [],
   "source": []
  }
 ],
 "metadata": {
  "kernelspec": {
   "display_name": "cs466",
   "language": "python",
   "name": "python3"
  },
  "language_info": {
   "codemirror_mode": {
    "name": "ipython",
    "version": 3
   },
   "file_extension": ".py",
   "mimetype": "text/x-python",
   "name": "python",
   "nbconvert_exporter": "python",
   "pygments_lexer": "ipython3",
   "version": "3.11.10"
  }
 },
 "nbformat": 4,
 "nbformat_minor": 2
}

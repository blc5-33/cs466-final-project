{
 "cells": [
  {
   "cell_type": "code",
   "execution_count": 1,
   "metadata": {},
   "outputs": [],
   "source": [
    "import pandas as pd\n",
    "import numpy as np\n",
    "from tqdm import tqdm"
   ]
  },
  {
   "cell_type": "markdown",
   "metadata": {},
   "source": [
    "## Loading Dataset\n",
    "Scrubbed dataset collected by filtering through NCBI datasets (see `scrubbed-viral-data/README.md` for more info)."
   ]
  },
  {
   "cell_type": "code",
   "execution_count": 2,
   "metadata": {},
   "outputs": [],
   "source": [
    "data_path = '../scrubbed-viral-data/scrubbed_sequences.csv'\n",
    "df = pd.read_csv(data_path)\n",
    "seqs = df['Sequence'].to_numpy()"
   ]
  },
  {
   "cell_type": "markdown",
   "metadata": {},
   "source": [
    "## Find Local Alignment Windows\n",
    "Let $n = |v|, m = |w|$, assume $n << m$.\n",
    "\n",
    "First we will find a list of all quartets $(i_{begin}, j_{begin}, i_{end}, j_{end})$ of all optimal\n",
    "local alignments of $v$ with $w$. Since this quartet captures the 4 points of a \"window\" of what would\n",
    "be the 2D DP table for local alignment, I'll call it a window.\n",
    "\n",
    "This is extremely similar to the midterm! Professor El-Kebir pointed out a clever solution to this\n",
    "problem by keeping track of an `origin` \"table\" where each cell $(i, j)$ has an entry $origin[i][j]$\n",
    "corresponding to the start of the optimal local alignment ending at $(i, j)$. We run space\n",
    "efficient local alignment with 2 columns (and 2 columns for our `origin` tracking), and\n",
    "save the highest scores + their corrseponding windows. There may be multiple ties by score.\n",
    "\n",
    "These windows will\n",
    "then be plugged into Hirschberg's algorithm to be able to figure out the backtraces for the local\n",
    "aligns in $O(n)$ space.\n"
   ]
  },
  {
   "cell_type": "code",
   "execution_count": 3,
   "metadata": {},
   "outputs": [],
   "source": [
    "def delta(v_i, w_j):\n",
    "    if v_i == w_j:\n",
    "        return 1\n",
    "    else:\n",
    "        return -1\n",
    "\n",
    "\n",
    "def find_windows(v: str, w: str):\n",
    "    n = len(v)\n",
    "    m = len(w)\n",
    "    prev = [(0, -1, -1) for _ in range(n + 1)]  # (score, i, j) i and j of origin of score\n",
    "    cur = [(0, -1, -1) for _ in range(n + 1)]\n",
    "    max_score = 0\n",
    "    windows = []\n",
    "\n",
    "    for j_end in range(m + 1):\n",
    "        for i_end in range(n + 1):\n",
    "            new_score, i_beg, j_beg = 0, i_end, j_end  # origin is itself by default\n",
    "            if i_end > 0:\n",
    "                from_score, from_i_beg, from_j_beg = cur[i_end - 1]\n",
    "                deletion_score = from_score - 1\n",
    "                if deletion_score > new_score:\n",
    "                    # inherit origins from previous cell\n",
    "                    new_score, i_beg, j_beg = deletion_score, from_i_beg, from_j_beg\n",
    "            if j_end > 0:\n",
    "                from_score, from_i_beg, from_j_beg = prev[i_end]\n",
    "                insertion_score = from_score - 1\n",
    "                if insertion_score > new_score:\n",
    "                    new_score, i_beg, j_beg = insertion_score, from_i_beg, from_j_beg\n",
    "            if i_end > 0 and j_end > 0:\n",
    "                from_score, from_i_beg, from_j_beg = prev[i_end - 1]\n",
    "                match_score = from_score + delta(v[i_end - 1], w[j_end - 1])\n",
    "                if match_score > new_score:\n",
    "                    new_score, i_beg, j_beg = match_score, from_i_beg, from_j_beg\n",
    "\n",
    "            cur[i_end] = (new_score, i_beg, j_beg)\n",
    "            if new_score > max_score:\n",
    "                max_score = new_score\n",
    "                # print(f'new window of score {max_score}')\n",
    "                # window index is 0-indexed for string access, but sequence index is 1-indexed\n",
    "                windows = [(i_beg, j_beg, i_end - 1, j_end - 1)]\n",
    "            elif new_score == max_score and max_score > 0:\n",
    "                # print(f'continuing window of score {max_score}')\n",
    "                windows.append((i_beg, j_beg, i_end - 1, j_end - 1))\n",
    "\n",
    "        prev = cur\n",
    "        cur = [(0, -1, -1) for _ in range(n + 1)]\n",
    "        # print([p[0] for p in prev])\n",
    "\n",
    "    # print([c[0] for c in cur])\n",
    "    return max_score, windows"
   ]
  },
  {
   "cell_type": "code",
   "execution_count": 5,
   "metadata": {},
   "outputs": [
    {
     "name": "stdout",
     "output_type": "stream",
     "text": [
      "27: GTAAATCCTTTGAGAAGAAGAGTCTCT\n",
      "100: GTTTAATGATTCACGATGTTGAGCACAGTTTTCCAACATTATGACCGAAATGATGAGGAACGCGCGTTGGTACCCTATAATCCGAGGCCGCCGAGTTACG\n"
     ]
    }
   ],
   "source": [
    "# Test finding windows\n",
    "test_in = 'GTAAATCCTTTGAGAAGAAGAGTCTCT'\n",
    "test_seq = 'GTTTAATGATTCACGATGTTGAGCACAGTTTTCCAACATTATGACCGAAATGATGAGGAACGCGCGTTGGTACCCTATAATCCGAGGCCGCCGAGTTACG'\n",
    "print(f'{len(test_in)}: {test_in}')\n",
    "print(f'{len(test_seq)}: {test_seq}')"
   ]
  },
  {
   "cell_type": "code",
   "execution_count": 6,
   "metadata": {},
   "outputs": [
    {
     "data": {
      "text/plain": [
       "(8, [(3, 34, 21, 56)])"
      ]
     },
     "execution_count": 6,
     "metadata": {},
     "output_type": "execute_result"
    }
   ],
   "source": [
    "find_windows(test_in, test_seq)"
   ]
  },
  {
   "cell_type": "code",
   "execution_count": 7,
   "metadata": {},
   "outputs": [
    {
     "name": "stdout",
     "output_type": "stream",
     "text": [
      "AATCCTTTGAGAAGAAGAG\n",
      "AACATTATGACCGAAATGATGAG\n"
     ]
    }
   ],
   "source": [
    "len(test_in)\n",
    "print(test_in[3:21+1])\n",
    "print(test_seq[34:56+1])"
   ]
  },
  {
   "cell_type": "markdown",
   "metadata": {},
   "source": [
    "## Hirschberg Implementation\n",
    "\n",
    "Now that we have our window-finding done, here we'll implement Hirschberg's algorithm to be able\n",
    "to recover the backtraces in $O(n)$ space where $n = \\text{length of input sequence}$ and assuming\n",
    "$n << m$.\n",
    "\n",
    "Note that our implementation is more closely aligned with [Wikipedia's suggested implementation](https://en.wikipedia.org/wiki/Hirschberg%27s_algorithm)\n",
    "than the one discussed in class."
   ]
  },
  {
   "cell_type": "code",
   "execution_count": null,
   "metadata": {},
   "outputs": [],
   "source": [
    "# Returns score only, not alignment string\n",
    "def needlemann_wunsch(v: str, w: str):\n",
    "    n = len(v)\n",
    "    m = len(w)\n",
    "    prev = [0 for _ in range(n + 1)]\n",
    "    cur = [0 for _ in range(n + 1)]\n",
    "\n",
    "    for j_end in range(m + 1):\n",
    "        for i_end in range(n + 1):\n",
    "            new_score = -np.inf\n",
    "            if i_end == 0 and j_end == 0:\n",
    "                new_score = 0\n",
    "            if i_end > 0:\n",
    "                deletion_score = cur[i_end - 1] - 1\n",
    "                if deletion_score > new_score:\n",
    "                    new_score = deletion_score\n",
    "            if j_end > 0:\n",
    "                insertion_score = prev[i_end] - 1\n",
    "                if insertion_score > new_score:\n",
    "                    new_score = insertion_score\n",
    "            if i_end > 0 and j_end > 0:\n",
    "                match_score = prev[i_end - 1] + delta(v[i_end - 1], w[j_end - 1])\n",
    "                if match_score > new_score:\n",
    "                    new_score = match_score\n",
    "\n",
    "            cur[i_end] = new_score\n",
    "\n",
    "        prev = cur\n",
    "        cur = [0 for _ in range(n + 1)]\n",
    "\n",
    "    return prev[n]\n",
    "\n",
    "\n",
    "def hirschberg(v: str, w: str, i_beg: int, j_beg: int, i_end: int, j_end: int):\n",
    "    pass\n",
    "\n",
    "\n",
    "def space_efficient_local_align(v: str, w: str):\n",
    "    results = []\n",
    "    _, windows = find_windows(v, w)\n",
    "    for (i_beg, j_beg, i_end, j_end) in windows:\n",
    "        score, alignment_str = hirschberg(v, w, i_beg, j_beg, i_end, j_end)\n",
    "        results.append((score, alignment_str))"
   ]
  },
  {
   "cell_type": "code",
   "execution_count": 10,
   "metadata": {},
   "outputs": [
    {
     "data": {
      "text/plain": [
       "-1"
      ]
     },
     "execution_count": 10,
     "metadata": {},
     "output_type": "execute_result"
    }
   ],
   "source": [
    "# Test NW and Hirschberg\n",
    "nw_in = 'ACAGTTTTCCAACATTA'\n",
    "# nw_seq = 'ATGTCTTACCATATTAGACAGAACTAGTGAGAG'\n",
    "nw_seq = 'ACAGTTTTCACCATATTAGACAGAACTAGTGAGAG'\n",
    "needlemann_wunsch(nw_in, nw_seq)"
   ]
  },
  {
   "cell_type": "markdown",
   "metadata": {},
   "source": [
    "## Input Sequences\n",
    "Here you should put in the gene or sequence you wish to find local alignments of."
   ]
  },
  {
   "cell_type": "code",
   "execution_count": null,
   "metadata": {},
   "outputs": [],
   "source": [
    "v = 'GTAAATCCTTTGAGAAGAAGAGTCTCT'"
   ]
  }
 ],
 "metadata": {
  "kernelspec": {
   "display_name": "cs466",
   "language": "python",
   "name": "python3"
  },
  "language_info": {
   "codemirror_mode": {
    "name": "ipython",
    "version": 3
   },
   "file_extension": ".py",
   "mimetype": "text/x-python",
   "name": "python",
   "nbconvert_exporter": "python",
   "pygments_lexer": "ipython3",
   "version": "3.11.10"
  }
 },
 "nbformat": 4,
 "nbformat_minor": 2
}
